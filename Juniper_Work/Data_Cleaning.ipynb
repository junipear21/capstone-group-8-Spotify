{
 "cells": [
  {
   "cell_type": "code",
   "execution_count": 1,
   "id": "bae21fc8",
   "metadata": {},
   "outputs": [],
   "source": [
    "import pandas as pd\n",
    "import numpy as np\n",
    "import os\n",
    "import datetime\n",
    "import re\n",
    "import sqlalchemy\n",
    "from sqlalchemy.ext.automap import automap_base\n",
    "from sqlalchemy.orm import session\n",
    "from sqlalchemy import create_engine, func\n",
    "\n",
    "file_path1 = \"Resources/artists.csv\"\n",
    "file_path2 = \"Resources/tracks.csv\""
   ]
  },
  {
   "cell_type": "code",
   "execution_count": 2,
   "id": "bd650a5d",
   "metadata": {},
   "outputs": [
    {
     "name": "stdout",
     "output_type": "stream",
     "text": [
      "<class 'pandas.core.frame.DataFrame'>\n",
      "RangeIndex: 1162095 entries, 0 to 1162094\n",
      "Data columns (total 5 columns):\n",
      " #   Column      Non-Null Count    Dtype  \n",
      "---  ------      --------------    -----  \n",
      " 0   id          1162095 non-null  object \n",
      " 1   followers   1162084 non-null  float64\n",
      " 2   genres      1162095 non-null  object \n",
      " 3   name        1162095 non-null  object \n",
      " 4   popularity  1162095 non-null  int64  \n",
      "dtypes: float64(1), int64(1), object(3)\n",
      "memory usage: 44.3+ MB\n"
     ]
    }
   ],
   "source": [
    "artists_df = pd.DataFrame(pd.read_csv(file_path1))\n",
    "artists_df.info()"
   ]
  },
  {
   "cell_type": "code",
   "execution_count": 3,
   "id": "da1411f5",
   "metadata": {},
   "outputs": [
    {
     "data": {
      "text/html": [
       "<div>\n",
       "<style scoped>\n",
       "    .dataframe tbody tr th:only-of-type {\n",
       "        vertical-align: middle;\n",
       "    }\n",
       "\n",
       "    .dataframe tbody tr th {\n",
       "        vertical-align: top;\n",
       "    }\n",
       "\n",
       "    .dataframe thead th {\n",
       "        text-align: right;\n",
       "    }\n",
       "</style>\n",
       "<table border=\"1\" class=\"dataframe\">\n",
       "  <thead>\n",
       "    <tr style=\"text-align: right;\">\n",
       "      <th></th>\n",
       "      <th>id</th>\n",
       "      <th>followers</th>\n",
       "      <th>genres</th>\n",
       "      <th>name</th>\n",
       "      <th>popularity</th>\n",
       "    </tr>\n",
       "  </thead>\n",
       "  <tbody>\n",
       "    <tr>\n",
       "      <th>0</th>\n",
       "      <td>0DheY5irMjBUeLybbCUEZ2</td>\n",
       "      <td>0.0</td>\n",
       "      <td>[]</td>\n",
       "      <td>Armid &amp; Amir Zare Pashai feat. Sara Rouzbehani</td>\n",
       "      <td>0</td>\n",
       "    </tr>\n",
       "    <tr>\n",
       "      <th>1</th>\n",
       "      <td>0DlhY15l3wsrnlfGio2bjU</td>\n",
       "      <td>5.0</td>\n",
       "      <td>[]</td>\n",
       "      <td>ปูนา ภาวิณี</td>\n",
       "      <td>0</td>\n",
       "    </tr>\n",
       "    <tr>\n",
       "      <th>2</th>\n",
       "      <td>0DmRESX2JknGPQyO15yxg7</td>\n",
       "      <td>0.0</td>\n",
       "      <td>[]</td>\n",
       "      <td>Sadaa</td>\n",
       "      <td>0</td>\n",
       "    </tr>\n",
       "    <tr>\n",
       "      <th>3</th>\n",
       "      <td>0DmhnbHjm1qw6NCYPeZNgJ</td>\n",
       "      <td>0.0</td>\n",
       "      <td>[]</td>\n",
       "      <td>Tra'gruda</td>\n",
       "      <td>0</td>\n",
       "    </tr>\n",
       "    <tr>\n",
       "      <th>4</th>\n",
       "      <td>0Dn11fWM7vHQ3rinvWEl4E</td>\n",
       "      <td>2.0</td>\n",
       "      <td>[]</td>\n",
       "      <td>Ioannis Panoutsopoulos</td>\n",
       "      <td>0</td>\n",
       "    </tr>\n",
       "  </tbody>\n",
       "</table>\n",
       "</div>"
      ],
      "text/plain": [
       "                       id  followers genres  \\\n",
       "0  0DheY5irMjBUeLybbCUEZ2        0.0     []   \n",
       "1  0DlhY15l3wsrnlfGio2bjU        5.0     []   \n",
       "2  0DmRESX2JknGPQyO15yxg7        0.0     []   \n",
       "3  0DmhnbHjm1qw6NCYPeZNgJ        0.0     []   \n",
       "4  0Dn11fWM7vHQ3rinvWEl4E        2.0     []   \n",
       "\n",
       "                                             name  popularity  \n",
       "0  Armid & Amir Zare Pashai feat. Sara Rouzbehani           0  \n",
       "1                                     ปูนา ภาวิณี           0  \n",
       "2                                           Sadaa           0  \n",
       "3                                       Tra'gruda           0  \n",
       "4                          Ioannis Panoutsopoulos           0  "
      ]
     },
     "execution_count": 3,
     "metadata": {},
     "output_type": "execute_result"
    }
   ],
   "source": [
    "artists_df.head()"
   ]
  },
  {
   "cell_type": "code",
   "execution_count": 4,
   "id": "d1a3b250",
   "metadata": {},
   "outputs": [
    {
     "name": "stdout",
     "output_type": "stream",
     "text": [
      "<class 'pandas.core.frame.DataFrame'>\n",
      "RangeIndex: 586672 entries, 0 to 586671\n",
      "Data columns (total 20 columns):\n",
      " #   Column            Non-Null Count   Dtype  \n",
      "---  ------            --------------   -----  \n",
      " 0   id                586672 non-null  object \n",
      " 1   name              586601 non-null  object \n",
      " 2   popularity        586672 non-null  int64  \n",
      " 3   duration_ms       586672 non-null  int64  \n",
      " 4   explicit          586672 non-null  int64  \n",
      " 5   artists           586672 non-null  object \n",
      " 6   id_artists        586672 non-null  object \n",
      " 7   release_date      586672 non-null  object \n",
      " 8   danceability      586672 non-null  float64\n",
      " 9   energy            586672 non-null  float64\n",
      " 10  key               586672 non-null  int64  \n",
      " 11  loudness          586672 non-null  float64\n",
      " 12  mode              586672 non-null  int64  \n",
      " 13  speechiness       586672 non-null  float64\n",
      " 14  acousticness      586672 non-null  float64\n",
      " 15  instrumentalness  586672 non-null  float64\n",
      " 16  liveness          586672 non-null  float64\n",
      " 17  valence           586672 non-null  float64\n",
      " 18  tempo             586672 non-null  float64\n",
      " 19  time_signature    586672 non-null  int64  \n",
      "dtypes: float64(9), int64(6), object(5)\n",
      "memory usage: 89.5+ MB\n"
     ]
    }
   ],
   "source": [
    "tracks_df = pd.DataFrame(pd.read_csv(file_path2))\n",
    "tracks_df.info()"
   ]
  },
  {
   "cell_type": "code",
   "execution_count": null,
   "id": "9bf1f9b5",
   "metadata": {},
   "outputs": [],
   "source": [
    "tracks_df.head(50)"
   ]
  },
  {
   "cell_type": "code",
   "execution_count": null,
   "id": "27d63097",
   "metadata": {},
   "outputs": [
    {
     "name": "stderr",
     "output_type": "stream",
     "text": [
      "C:\\Users\\ejche\\anaconda3\\envs\\PythonData\\lib\\site-packages\\pandas\\core\\frame.py:3678: PerformanceWarning: DataFrame is highly fragmented.  This is usually the result of calling `frame.insert` many times, which has poor performance.  Consider joining all columns at once using pd.concat(axis=1) instead.  To get a de-fragmented frame, use `newframe = frame.copy()`\n",
      "  self[col] = igetitem(value, i)\n"
     ]
    }
   ],
   "source": [
    "#Parse release_date into date time\n",
    "release_date = tracks_df[\"release_date\"].dropna()\n",
    "release_date = pd.to_datetime(release_date)\n",
    "tracks_df[release_date] = release_date"
   ]
  },
  {
   "cell_type": "code",
   "execution_count": null,
   "id": "3ed50c6d",
   "metadata": {},
   "outputs": [],
   "source": [
    "tracks_df1 = tracks_df.loc(tracks_df[release_date] < '1960-01-01')\n",
    "tracks_df1.head()"
   ]
  },
  {
   "cell_type": "code",
   "execution_count": null,
   "id": "923042d0",
   "metadata": {},
   "outputs": [],
   "source": []
  },
  {
   "cell_type": "code",
   "execution_count": null,
   "id": "a202b0c0",
   "metadata": {},
   "outputs": [],
   "source": []
  },
  {
   "cell_type": "code",
   "execution_count": null,
   "id": "44142043",
   "metadata": {},
   "outputs": [],
   "source": []
  },
  {
   "cell_type": "code",
   "execution_count": null,
   "id": "bff413d3",
   "metadata": {},
   "outputs": [],
   "source": [
    "# Start SQLite Server\n",
    "engine = create_engine(\"sqlite:///spotify.sqlite\")"
   ]
  },
  {
   "cell_type": "code",
   "execution_count": null,
   "id": "7184d8e3",
   "metadata": {},
   "outputs": [],
   "source": [
    "Base = automap_base()"
   ]
  },
  {
   "cell_type": "code",
   "execution_count": null,
   "id": "dca12a5c",
   "metadata": {},
   "outputs": [],
   "source": [
    "Base.prepare(engine, reflect=True)"
   ]
  },
  {
   "cell_type": "code",
   "execution_count": null,
   "id": "dd3dddb7",
   "metadata": {},
   "outputs": [],
   "source": [
    "Base.classes.keys()"
   ]
  },
  {
   "cell_type": "code",
   "execution_count": null,
   "id": "2646f75b",
   "metadata": {},
   "outputs": [],
   "source": []
  }
 ],
 "metadata": {
  "kernelspec": {
   "display_name": "Python 3 (ipykernel)",
   "language": "python",
   "name": "python3"
  },
  "language_info": {
   "codemirror_mode": {
    "name": "ipython",
    "version": 3
   },
   "file_extension": ".py",
   "mimetype": "text/x-python",
   "name": "python",
   "nbconvert_exporter": "python",
   "pygments_lexer": "ipython3",
   "version": "3.7.11"
  }
 },
 "nbformat": 4,
 "nbformat_minor": 5
}
